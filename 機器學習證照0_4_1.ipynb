{
  "nbformat": 4,
  "nbformat_minor": 0,
  "metadata": {
    "colab": {
      "provenance": [],
      "toc_visible": true,
      "authorship_tag": "ABX9TyNy4d4JsKT8xwu0n7UXzj0L",
      "include_colab_link": true
    },
    "kernelspec": {
      "name": "python3",
      "display_name": "Python 3"
    },
    "language_info": {
      "name": "python"
    }
  },
  "cells": [
    {
      "cell_type": "markdown",
      "metadata": {
        "id": "view-in-github",
        "colab_type": "text"
      },
      "source": [
        "<a href=\"https://colab.research.google.com/github/victorlee0923-creator/ML_Book_Practice/blob/main/%E6%A9%9F%E5%99%A8%E5%AD%B8%E7%BF%92%E8%AD%89%E7%85%A70_4_1.ipynb\" target=\"_parent\"><img src=\"https://colab.research.google.com/assets/colab-badge.svg\" alt=\"Open In Colab\"/></a>"
      ]
    },
    {
      "cell_type": "code",
      "source": [
        "!pip install jupyterlab"
      ],
      "metadata": {
        "id": "VnIGDOZQ1VOF"
      },
      "execution_count": null,
      "outputs": []
    },
    {
      "cell_type": "code",
      "source": [
        "!pip show jupyterlab"
      ],
      "metadata": {
        "id": "LLv2KhmK1chV"
      },
      "execution_count": null,
      "outputs": []
    },
    {
      "cell_type": "markdown",
      "source": [
        "#0-4-1 向量與矩陣"
      ],
      "metadata": {
        "id": "BxFXWFg45zyt"
      }
    },
    {
      "cell_type": "code",
      "source": [
        "#用list來實作向量運算(是最遜的作法)\n",
        "A=[1,2,3]\n",
        "B=[4,5,6]\n",
        "\n",
        "def vector_add(v,w):\n",
        "  return [v_i+w_i for v_i,w_i in zip(v,w)]\n",
        "def vector_dot_product(v,w):\n",
        "  return sum(v_i*w_i for v_i,w_i in zip(v,w))\n",
        "print(vector_add(A,B))\n",
        "print(vector_dot_product(A,B))"
      ],
      "metadata": {
        "colab": {
          "base_uri": "https://localhost:8080/"
        },
        "id": "t_lkezlO5x-G",
        "outputId": "c12d34e7-ddec-46c5-dd7f-550901b86daa"
      },
      "execution_count": 10,
      "outputs": [
        {
          "output_type": "stream",
          "name": "stdout",
          "text": [
            "[5, 7, 9]\n",
            "32\n"
          ]
        }
      ]
    },
    {
      "cell_type": "code",
      "source": [
        "#利用numpy陣列array來實作向量才是最棒的\n",
        "import numpy as np\n",
        "\n",
        "A=np.array([1,2,3])\n",
        "B=np.array([4,5,6])\n",
        "print('向量相加',A+B)\n",
        "print('純量向量相乘:',3*A)\n",
        "print('向量相乘:',A*B)\n",
        "print('向量內積:',np.dot(A,B))\n",
        "print('向量長度:',np.linalg.norm(A))"
      ],
      "metadata": {
        "colab": {
          "base_uri": "https://localhost:8080/"
        },
        "id": "wlNFu3Zx7KNo",
        "outputId": "6b8a1e89-e1d5-4a8f-e049-ad3bf9071758"
      },
      "execution_count": 11,
      "outputs": [
        {
          "output_type": "stream",
          "name": "stdout",
          "text": [
            "向量相加 [5 7 9]\n",
            "純量向量相乘: [3 6 9]\n",
            "向量相乘: [ 4 10 18]\n",
            "向量內積: 32\n",
            "向量長度: 3.7416573867739413\n"
          ]
        }
      ]
    },
    {
      "cell_type": "code",
      "source": [
        "#三個主要屬性\n",
        "arr=np.array([1,2,3,4,5,6])\n",
        "print(arr.ndim) #屬性 : 維度\n",
        "print(arr.shape) #屬性 : 形狀\n",
        "print(arr.dtype) #屬性 : 資料型態"
      ],
      "metadata": {
        "colab": {
          "base_uri": "https://localhost:8080/"
        },
        "id": "Bch6F2Om95Cb",
        "outputId": "c7295c25-a935-49b6-9473-db8110f24ca2"
      },
      "execution_count": 12,
      "outputs": [
        {
          "output_type": "stream",
          "name": "stdout",
          "text": [
            "1\n",
            "(6,)\n",
            "int64\n"
          ]
        }
      ]
    },
    {
      "cell_type": "code",
      "source": [
        "#改變陣列的形狀以及維度\n",
        "arr.shape=(2,3) #tuple\n",
        "# arr.shape=2,3 #這裡的2,3基本上是未打包的tuple的寫法\n",
        "print(arr)\n",
        "\n",
        "arr1=arr.reshape((3,2))\n",
        "print(arr1)"
      ],
      "metadata": {
        "colab": {
          "base_uri": "https://localhost:8080/"
        },
        "id": "77-eURZL-vcb",
        "outputId": "5435ca9a-6ba4-49d9-89ae-7d19c23f9373"
      },
      "execution_count": 13,
      "outputs": [
        {
          "output_type": "stream",
          "name": "stdout",
          "text": [
            "[[1 2 3]\n",
            " [4 5 6]]\n",
            "[[1 2]\n",
            " [3 4]\n",
            " [5 6]]\n"
          ]
        }
      ]
    },
    {
      "cell_type": "markdown",
      "source": [
        "以下為numpy的矩陣資料結構，但通常不建議使用，因為多數運算的函式回傳的是ndarray資料型態而不是matrix"
      ],
      "metadata": {
        "id": "9QlgakCpBYs2"
      }
    },
    {
      "cell_type": "code",
      "source": [
        "#在最新的numpy中，np.mat已經被棄用了，所以執行這個cell也不會成功\n",
        "# import numpy as np\n",
        "# matrix=np.mat([[1,2,3],[4,5,6]])\n",
        "# print(matrix)"
      ],
      "metadata": {
        "id": "RjbeMHb9BHzO"
      },
      "execution_count": null,
      "outputs": []
    },
    {
      "cell_type": "code",
      "source": [
        "#矩陣運算\n",
        "A=np.array([[1,2,3],[4,5,6]])\n",
        "B=np.array([[1,0,0],[0,1,1],[1,0,1]])\n",
        "print(\"--------矩陣相乘---------\")\n",
        "print(np.dot(A,B))\n",
        "print(\"--------轉置矩陣---------\")\n",
        "print(np.transpose(A))\n",
        "print(A.T)\n",
        "print(A.transpose())\n",
        "print(\"-------反矩陣----------\")\n",
        "print(np.linalg.inv(B))\n",
        "print(\"-------正反矩陣相乘----------\")\n",
        "C=np.linalg.inv(B)\n",
        "print(np.dot(B,C))"
      ],
      "metadata": {
        "id": "kL1VmEHDCYEX"
      },
      "execution_count": null,
      "outputs": []
    },
    {
      "cell_type": "code",
      "source": [
        "#避免不可逆矩陣無法進行反矩陣而出現錯誤的情況\n",
        "try:\n",
        "  inv = np.linalg.inv(B)\n",
        "except np.linalg.LinAlgError:\n",
        "  print('不可逆矩陣')"
      ],
      "metadata": {
        "id": "h4jdYM_TCmL6"
      },
      "execution_count": 15,
      "outputs": []
    },
    {
      "cell_type": "code",
      "source": [
        "#轉置對一維陣列沒有用，要寫成二維陣列才能使用轉置\n",
        "arr=np.array([1,2,3])#一維陣列\n",
        "print(arr.T)\n",
        "arr=np.array([[1,2,3]]) #二維陣列\n",
        "print(arr.T)"
      ],
      "metadata": {
        "id": "_qfPk1uwEWu6"
      },
      "execution_count": null,
      "outputs": []
    },
    {
      "cell_type": "code",
      "source": [
        "#將矩陣攤平 flatten()\n",
        "A=np.array([[1,2,3],[4,5,6]])\n",
        "A.flatten() #得到一維陣列"
      ],
      "metadata": {
        "id": "PiCEmLISE6IC"
      },
      "execution_count": null,
      "outputs": []
    },
    {
      "cell_type": "code",
      "source": [
        "#得到一個二維陣列1X6(也可以6X1)，那個-1的解釋在heptabase中有\n",
        "A.reshape(1,-1)\n",
        "# A.reshape(-1,1) #轉換成6X1的二維陣列"
      ],
      "metadata": {
        "id": "Y3jPITWSF7mK"
      },
      "execution_count": null,
      "outputs": []
    }
  ]
}